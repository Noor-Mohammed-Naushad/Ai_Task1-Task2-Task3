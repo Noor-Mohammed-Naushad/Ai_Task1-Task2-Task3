{
 "cells": [
  {
   "cell_type": "markdown",
   "metadata": {},
   "source": [
    "<center><h1>Task 1</h1> </center><br>\n",
    "# Write a Python program to find those numbers which are divisible by 7 and multiple of 5, between 1500 and 2700 (both included)\n"
   ]
  },
  {
   "cell_type": "code",
   "execution_count": 1,
   "metadata": {},
   "outputs": [
    {
     "name": "stdout",
     "output_type": "stream",
     "text": [
      "1505\n",
      "1540\n",
      "1575\n",
      "1610\n",
      "1645\n",
      "1680\n",
      "1715\n",
      "1750\n",
      "1785\n",
      "1820\n",
      "1855\n",
      "1890\n",
      "1925\n",
      "1960\n",
      "1995\n",
      "2030\n",
      "2065\n",
      "2100\n",
      "2135\n",
      "2170\n",
      "2205\n",
      "2240\n",
      "2275\n",
      "2310\n",
      "2345\n",
      "2380\n",
      "2415\n",
      "2450\n",
      "2485\n",
      "2520\n",
      "2555\n",
      "2590\n",
      "2625\n",
      "2660\n",
      "2695\n"
     ]
    }
   ],
   "source": [
    "for i in range(1500,2701):\n",
    "    if (i%7==0) and (i%5==0):\n",
    "        print(i)"
   ]
  },
  {
   "cell_type": "markdown",
   "metadata": {},
   "source": [
    "# By using array"
   ]
  },
  {
   "cell_type": "code",
   "execution_count": 2,
   "metadata": {},
   "outputs": [
    {
     "name": "stdout",
     "output_type": "stream",
     "text": [
      "1505,1540,1575,1610,1645,1680,1715,1750,1785,1820,1855,1890,1925,1960,1995,2030,2065,2100,2135,2170,2205,2240,2275,2310,2345,2380,2415,2450,2485,2520,2555,2590,2625,2660,2695\n"
     ]
    }
   ],
   "source": [
    "p=[]\n",
    "for k in range(1500, 2701):\n",
    "    if (k%7==0) and (k%5==0):\n",
    "        p.append(str(k))\n",
    "print (','.join(p))"
   ]
  },
  {
   "cell_type": "markdown",
   "metadata": {},
   "source": [
    "<center><h1>Task 2</h1> </center><br>\n",
    "#Write a Python program to convert temperatures to and from celsius, fahrenheit.\n"
   ]
  },
  {
   "cell_type": "code",
   "execution_count": 3,
   "metadata": {},
   "outputs": [
    {
     "name": "stdout",
     "output_type": "stream",
     "text": [
      "Input temperature in celcius/fahrenheit(_C/_F) : 60F\n"
     ]
    }
   ],
   "source": [
    "x=input('Input temperature in celcius/fahrenheit(_C/_F) : ')\n",
    "L=len(x)\n",
    "d=int(x[:L-1])  #degree\n",
    "u=x[L-1]        #unit"
   ]
  },
  {
   "cell_type": "code",
   "execution_count": 4,
   "metadata": {},
   "outputs": [
    {
     "name": "stdout",
     "output_type": "stream",
     "text": [
      "Temperature in Celsius is :  15.555555555555555  degree\n"
     ]
    }
   ],
   "source": [
    "if u=='F':\n",
    "    temp=((d-32)*5)/9\n",
    "    print('Temperature in Celsius is : ',temp,' degree')\n",
    "elif u=='C':\n",
    "    temp=((9*d)/5)+32\n",
    "    print('Temperature in Fahrenheit is : ',temp,'degree')\n",
    "else:\n",
    "    print('input proper unit')\n",
    "    "
   ]
  },
  {
   "cell_type": "markdown",
   "metadata": {},
   "source": [
    "<center><h1>Task 3<h1></center>\n",
    "Let’s say n is an integer, write a python program that will do the below task:<br>\n",
    "#If n is odd, print “Ok”<br>\n",
    "#If n is even and in the inclusive range of 2 to 5, print “Not Ok”<br>\n",
    "#If is even and in the inclusive range of 6 to 20, print “Ok”<br>\n",
    "#If is even and greater than 20, print “Ok”<br>"
   ]
  },
  {
   "cell_type": "code",
   "execution_count": 5,
   "metadata": {},
   "outputs": [
    {
     "name": "stdout",
     "output_type": "stream",
     "text": [
      "input any integer number : 4\n"
     ]
    }
   ],
   "source": [
    "n=int(input('input any integer number : '))"
   ]
  },
  {
   "cell_type": "code",
   "execution_count": 6,
   "metadata": {},
   "outputs": [
    {
     "name": "stdout",
     "output_type": "stream",
     "text": [
      "Not Ok\n"
     ]
    }
   ],
   "source": [
    "z=n%2\n",
    "if (z==1):\n",
    "    print('Ok')\n",
    "elif (2 <= n <= 5):\n",
    "    print('Not Ok')\n",
    "elif (6 <= n <=20):\n",
    "    print('Ok')\n",
    "elif (n>20):\n",
    "    print('Ok')"
   ]
  }
 ],
 "metadata": {
  "kernelspec": {
   "display_name": "Python 3",
   "language": "python",
   "name": "python3"
  },
  "language_info": {
   "codemirror_mode": {
    "name": "ipython",
    "version": 3
   },
   "file_extension": ".py",
   "mimetype": "text/x-python",
   "name": "python",
   "nbconvert_exporter": "python",
   "pygments_lexer": "ipython3",
   "version": "3.7.6"
  }
 },
 "nbformat": 4,
 "nbformat_minor": 4
}
